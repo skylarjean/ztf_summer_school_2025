{
 "cells": [
  {
   "cell_type": "markdown",
   "metadata": {},
   "source": [
    "# Accessing SCoPe online\n",
    "This notebook will go over how to use the `scope_client` class to access the SCoPe catalogs.\n",
    "\n",
    "1. [initalize](#initalize)\n",
    "2. [`cone_search` and `cone_searches`](#cone)\n",
    "3. [`ids_search`](#id)\n",
    "4. [`search_by_classification` and `search_by_features`](#serach)\n",
    "5. [Plot classifications](#plot)\n",
    "6. [Retrive light curves](#lc)\n",
    "7. [Examples](#ex)\n",
    "    1. [CMD](#cmd)\n",
    "    2. [Single source](#singlesource)\n",
    "\n",
    "\n",
    "(links are broken, will fix another time)"
   ]
  },
  {
   "cell_type": "markdown",
   "metadata": {},
   "source": [
    "## <a id=\"initalize\"></a> 1. Initalize `scope_client`"
   ]
  },
  {
   "cell_type": "markdown",
   "metadata": {},
   "source": [
    "`scope_client` is built on top of `Kowalski` so it needs the same credetials. The tables for SCoPe all live on `gloria` so it is the only nessecary host. Adding other hosts will break the code. Specify this information in the `config.yaml` file and ONLY use hosts that you have access to."
   ]
  },
  {
   "cell_type": "code",
   "execution_count": null,
   "metadata": {},
   "outputs": [],
   "source": [
    "from SCoPe_db import scope_client\n",
    "import yaml\n",
    "import numpy as np\n",
    "import pandas as pd\n",
    "timeout = 120\n",
    "C=scope_client(time_out=timeout)"
   ]
  },
  {
   "cell_type": "markdown",
   "metadata": {},
   "source": [
    "`ZTF_source_features_DR16` and `ZTF_source_classifications_DR16` are the two tables that make up the SCoPe catalog. `ZTF_source_classifications_DR16` contains all of the classifications for all of the lightcurves (the same as the Zenodo repo). `ZTF_source_features_DR16` has the feautes computed that were used to compute the classifications. Not all columns are as useful as each other. Built into `scope_client` is a list of preselected columns to be returned in all queries."
   ]
  },
  {
   "cell_type": "code",
   "execution_count": null,
   "metadata": {},
   "outputs": [],
   "source": [
    "#columns used for ZTF_source_classifications_DR16\n",
    "print(C.classification_keys)"
   ]
  },
  {
   "cell_type": "code",
   "execution_count": null,
   "metadata": {},
   "outputs": [],
   "source": [
    "#columns used for ZTF_source_features_DR16\n",
    "print(C.features_keys)"
   ]
  },
  {
   "cell_type": "markdown",
   "metadata": {},
   "source": [
    "One can manualy change the columns returned like in the cell below, however the prefered method is the change these varibles in `config.yaml` before initalizing a `scope_client`"
   ]
  },
  {
   "cell_type": "code",
   "execution_count": null,
   "metadata": {},
   "outputs": [],
   "source": [
    "#To change these columns just\n",
    "C.features_keys=C.features_keys[1::] #removing the first element\n",
    "#then run\n",
    "C._setup_projections_()\n",
    "# Now undo this\n",
    "C.features_keys=['_id']+C.features_keys\n",
    "C._setup_projections_()"
   ]
  },
  {
   "cell_type": "markdown",
   "metadata": {},
   "source": [
    "## <a id=\"cone\"></a>2. `cone_search` and `cone_searches`\n",
    "use these functions to preform a cone search around one (`cone_search`) or many (`cone_searchs`) coordinates."
   ]
  },
  {
   "cell_type": "code",
   "execution_count": null,
   "metadata": {},
   "outputs": [],
   "source": [
    "out_data=C.cone_search(10,10,radius=1,unit='arcmin')\n",
    "out_data"
   ]
  },
  {
   "cell_type": "code",
   "execution_count": null,
   "metadata": {},
   "outputs": [],
   "source": [
    "#multiple ra dec positions\n",
    "pos=[(10,10),(0,0),(5,5)]\n",
    "out_data=C.cone_searches(pos,radius=1,unit='arcmin')\n",
    "out_data"
   ]
  },
  {
   "cell_type": "markdown",
   "metadata": {},
   "source": [
    "## <a id=\"id\"></a>3. `ids_search`\n",
    "You may know the ids of the objects you are looking for. You can retrive the objects like"
   ]
  },
  {
   "cell_type": "code",
   "execution_count": null,
   "metadata": {},
   "outputs": [],
   "source": [
    "ids=[10447433026230,10447432005323,10447433005770]\n",
    "out_data=C.ids_search(ids,id_type='_id')\n"
   ]
  },
  {
   "cell_type": "markdown",
   "metadata": {},
   "source": [
    "You can also search on `AllWISE___id`, `Gaia_EDR3___id` or `PS1_DR1___id` by changing the `id_type` kwarg to the desired id."
   ]
  },
  {
   "cell_type": "markdown",
   "metadata": {},
   "source": [
    "## <a id=\"4\"></a> 4.  `search_by_classification` and `search_by_features`\n",
    "There are indices over field so these implement searches in parallel over fields while filtering on columns from the classifications table or features table. These are equivalant to a 3 stage agregation pipeline where\n",
    "1. Select only rows in a specifed `field`\n",
    "2. Preform a `match` on columns of `ZTF_source_classifications_DR16` xor `ZTF_source_features_DR16`\n",
    "3. `project` desired columns"
   ]
  },
  {
   "cell_type": "code",
   "execution_count": null,
   "metadata": {},
   "outputs": [],
   "source": [
    "fields=[447,500,396]\n",
    "# period is less than 10 days AND dnn periodic score is greater than .7 AND XGB periodic score is greater than .7\n",
    "short_period_and_periodic={'$and':[\n",
    "                                    {'period':{'$lt':10}},\n",
    "                                    {'pnp_dnn':{'$gt':.7}},\n",
    "                                    {'pnp_xgb':{'$gt':.7}}\n",
    "                                ]\n",
    "                            }\n",
    "\n",
    "out_data=C.search_by_classification(fields,filter_stage=short_period_and_periodic)\n",
    "out_data"
   ]
  },
  {
   "cell_type": "code",
   "execution_count": null,
   "metadata": {},
   "outputs": [],
   "source": [
    "fields=[447,500,396]\n",
    "# period is less than 10 days AND significance greater than 10 AND an amplitude greater than 1\n",
    "short_period_high_amplitude={'$and':[\n",
    "                                    {'amplitude':{'$gt':1}},\n",
    "                                    {'period_ELS_ECE_EAOV':{'$lt':10}},\n",
    "                                    {'significance_ELS_ECE_EAOV':{'$gt':10}}\n",
    "                                ]\n",
    "                            }\n",
    "\n",
    "out_data=C.search_by_feature(fields,filter_stage=short_period_high_amplitude)\n",
    "out_data"
   ]
  },
  {
   "cell_type": "markdown",
   "metadata": {},
   "source": [
    "## 5. <a id=\"plot\"></a> View one sources classifications\n",
    "`all_tax.yaml` has the full names for the columns in the classifcation database"
   ]
  },
  {
   "cell_type": "code",
   "execution_count": null,
   "metadata": {},
   "outputs": [],
   "source": [
    "#get one row\n",
    "out_data=C.ids_search([10500512001977],id_type='_id')\n",
    "out_data"
   ]
  },
  {
   "cell_type": "markdown",
   "metadata": {},
   "source": [
    "You can view the classifcation using the scheme below. I have left this level of settings exposed to let you customize the plots how you see fit. If you want more setting exposed or features for the plot open an issue on the github and I (Daniel Warshofsky) will look into it."
   ]
  },
  {
   "cell_type": "markdown",
   "metadata": {},
   "source": [
    "The top part of the circle shows the DNN scores and the lower part show the XGB scores "
   ]
  },
  {
   "cell_type": "code",
   "execution_count": null,
   "metadata": {},
   "outputs": [],
   "source": [
    "from class_plot import *\n",
    "import yaml\n",
    "with open('./all_tax.yaml') as config_yaml:\n",
    "    full_tree = yaml.load(config_yaml, Loader=yaml.FullLoader)\n",
    "copy_tree=copy.deepcopy(full_tree)\n",
    "# get just the Phenomenological tree\n",
    "ph_tree=copy_tree['children'][0]\n",
    "# get just the Ontological tree\n",
    "on_tree=copy_tree['children'][1]\n",
    "fig,axs=plt.subplots(2,figsize=(8,16))\n",
    "\n",
    "s_ph={'skip_text':False,'cm':\"Greens\"}\n",
    "s_on={'skip_text':False,'cm':\"Greens\"}\n",
    "axs[0].set_title('Phenomenological')\n",
    "plot_classifications(axs[0],out_data,ph_tree,sep=.3,settings=s_ph)\n",
    "axs[1].set_title('Ontological')\n",
    "plot_classifications(axs[1],out_data,on_tree,sep=.3,settings=s_on)\n",
    "axs[0].set_xticks([])\n",
    "axs[0].set_yticks([])\n",
    "axs[1].set_xticks([])\n",
    "axs[1].set_yticks([])\n",
    "plt.tight_layout()"
   ]
  },
  {
   "cell_type": "markdown",
   "metadata": {},
   "source": [
    "## 6. <a id=\"lc\"></a> Retriving Lightcurves\n",
    "You can get light curves by the `_id` or by a single coordinate. SCoPe sources are by lightcurve not object! Each filter is seperate! All lightcurves are returned in the same `DataFrame` with the column `_id` to denote which lightcurve is which. You need access to `melman` for this functionality"
   ]
  },
  {
   "cell_type": "code",
   "execution_count": null,
   "metadata": {},
   "outputs": [],
   "source": [
    "ids=[10447433026230,10447432005323,10447433005770]\n",
    "out_data=C.get_light_curves_by_id(ids)\n",
    "out_data\n"
   ]
  },
  {
   "cell_type": "code",
   "execution_count": null,
   "metadata": {},
   "outputs": [],
   "source": [
    "out_data=C.get_light_curves_by_coord(5.008773,4.999681)\n",
    "out_data"
   ]
  },
  {
   "cell_type": "code",
   "execution_count": null,
   "metadata": {},
   "outputs": [],
   "source": [
    "import matplotlib.pyplot as plt\n",
    "fig,ax=plt.subplots()\n",
    "for id in np.unique(out_data['_id']):\n",
    "    mask=out_data['_id']==id\n",
    "    ax.plot(out_data[mask]['hjd']-min(out_data['hjd']),out_data[mask]['mag'],label=str(id))\n",
    "ax.legend()\n",
    "ax.invert_yaxis()\n",
    "ax.set_xlabel('Days since first observation')\n",
    "ax.set_ylabel('mag')"
   ]
  },
  {
   "cell_type": "markdown",
   "metadata": {},
   "source": [
    "## 7. <a id=\"ex\"></a> Examples"
   ]
  },
  {
   "cell_type": "markdown",
   "metadata": {},
   "source": [
    "### 7.1. <a id=\"cmd\"></a> CMD"
   ]
  },
  {
   "cell_type": "code",
   "execution_count": null,
   "metadata": {},
   "outputs": [],
   "source": [
    "# Retrive some data\n",
    "fields=[500]\n",
    "periodic={'$and':[\n",
    "                    {'pnp_dnn':{'$gt':.7}},\n",
    "                    {'pnp_xgb':{'$gt':.7}}\n",
    "                ]\n",
    "            }\n",
    "non_periodic={'$and':[\n",
    "                    {'pnp_dnn':{'$lt':.4}},\n",
    "                    {'pnp_xgb':{'$lt':.4}}\n",
    "                ]\n",
    "            }\n",
    "\n",
    "periodic_data=C.search_by_classification(fields,filter_stage=periodic)\n",
    "non_periodic_data=C.search_by_classification(fields,filter_stage=non_periodic)"
   ]
  },
  {
   "cell_type": "code",
   "execution_count": null,
   "metadata": {},
   "outputs": [],
   "source": [
    "periodic_data=periodic_data[periodic_data['Gaia_EDR3___id']!=np.nan]\n",
    "non_periodic_data=non_periodic_data[non_periodic_data['Gaia_EDR3___id']!=np.nan]\n",
    "\n",
    "\n",
    "periodic_data['Abs_g_mag']=periodic_data[\"Gaia_EDR3__phot_g_mean_mag\"] + 5.0 * np.log10(periodic_data[\"Gaia_EDR3__parallax\"] / 1000)\n",
    "non_periodic_data['Abs_g_mag']=non_periodic_data[\"Gaia_EDR3__phot_g_mean_mag\"] + 5.0 * np.log10(non_periodic_data[\"Gaia_EDR3__parallax\"] / 1000)\n",
    "\n",
    "#keep only significant parallax\n",
    "final_periodic=periodic_data[periodic_data[\"Gaia_EDR3__parallax\"]/periodic_data['Gaia_EDR3__parallax_error']>3]\n",
    "final_non_periodic=non_periodic_data[non_periodic_data[\"Gaia_EDR3__parallax\"]/non_periodic_data['Gaia_EDR3__parallax_error']>3]\n"
   ]
  },
  {
   "cell_type": "code",
   "execution_count": null,
   "metadata": {},
   "outputs": [],
   "source": [
    "fig,ax= plt.subplots(figsize=(8,8))\n",
    "ax.scatter(final_non_periodic['Gaia_EDR3__phot_bp_mean_mag']-final_non_periodic['Gaia_EDR3__phot_rp_mean_mag'],final_non_periodic['Abs_g_mag'],label='Non-Periodic',s=5,alpha=.1)\n",
    "ax.scatter(final_periodic['Gaia_EDR3__phot_bp_mean_mag']-final_periodic['Gaia_EDR3__phot_rp_mean_mag'],final_periodic['Abs_g_mag'],label='Periodic',s=5,alpha=.2)\n",
    "ax.set_xlabel('BP-RP (mag)')\n",
    "ax.set_ylabel('Abs G (mag)')\n",
    "l=ax.legend()\n",
    "for lh in l.legend_handles: \n",
    "    lh.set_alpha(1)\n",
    "ax.invert_yaxis()\n"
   ]
  },
  {
   "cell_type": "markdown",
   "metadata": {},
   "source": [
    "### 7.2. <a id=\"singlesource\"></a> Inspecting a single object"
   ]
  },
  {
   "cell_type": "code",
   "execution_count": null,
   "metadata": {},
   "outputs": [],
   "source": [
    "#First lets find some sources that are interesting\n",
    "fields=[740]\n",
    "#look for some very short period sources\n",
    "periodic={'$and':[\n",
    "                    {'period':{'$lt':.2}},\n",
    "                    {'pnp_dnn':{'$gt':.7}},\n",
    "                    {'pnp_xgb':{'$gt':.7}}\n",
    "                ]\n",
    "            }\n",
    "periodic_data=C.search_by_classification(fields,filter_stage=periodic)\n"
   ]
  },
  {
   "cell_type": "code",
   "execution_count": null,
   "metadata": {},
   "outputs": [],
   "source": [
    "periodic_data"
   ]
  },
  {
   "cell_type": "code",
   "execution_count": null,
   "metadata": {},
   "outputs": [],
   "source": [
    "# now lets filter for only the most significant periods\n",
    "q='significance_ELS > 100 & significance_EAOV >100 & significance_ECE >30 & significance_ELS_ECE_EAOV > 100' #this is arbitrary, just to find the source that I want\n",
    "periodic_data_high_sig=periodic_data.query(q).reset_index(drop=True)\n",
    "periodic_data_high_sig"
   ]
  },
  {
   "cell_type": "code",
   "execution_count": null,
   "metadata": {},
   "outputs": [],
   "source": [
    "#Look at the rows one by one untill we find something cool\n",
    "\n",
    "row=periodic_data_high_sig[0:1]\n",
    "print(f\"This source has id: {row['_id'].values}\")\n",
    "\n",
    "with open('./all_tax.yaml') as config_yaml:\n",
    "    full_tree = yaml.load(config_yaml, Loader=yaml.FullLoader)\n",
    "copy_tree=copy.deepcopy(full_tree)\n",
    "# get just the Phenomenological tree\n",
    "ph_tree=copy_tree['children'][0]\n",
    "# get just the Ontological tree\n",
    "on_tree=copy_tree['children'][1]\n",
    "fig,axs=plt.subplots(2,figsize=(8,16))\n",
    "\n",
    "s_ph={'skip_text':False,'cm':\"Greens\"}\n",
    "s_on={'skip_text':False,'cm':\"Greens\"}\n",
    "axs[0].set_title('Phenomenological')\n",
    "plot_classifications(axs[0],row,ph_tree,sep=.3,settings=s_ph)\n",
    "axs[1].set_title('Ontological')\n",
    "plot_classifications(axs[1],row,on_tree,sep=.3,settings=s_on)\n",
    "axs[0].set_xticks([])\n",
    "axs[0].set_yticks([])\n",
    "axs[1].set_xticks([])\n",
    "axs[1].set_yticks([])\n",
    "plt.tight_layout()"
   ]
  },
  {
   "cell_type": "markdown",
   "metadata": {},
   "source": [
    "While both DNN and XGB agree that the source is periodic, DNN seems to think this source is a  W Urse Maj. (contact binary) and XGB thinks it is a Delta Scuti varible. This merits looking at the lightcurve!"
   ]
  },
  {
   "cell_type": "code",
   "execution_count": null,
   "metadata": {},
   "outputs": [],
   "source": [
    "light_curve=C.get_light_curves_by_id([int(row['_id'][0])]) #This is a little awkward becuse numpy ints are not json serializable, if you encounter issues like this post an issue\n",
    "light_curve['hjd']-=min(light_curve['hjd']) #set relitive to \n",
    "\n",
    "period=row['period'].loc[0]\n",
    "fig,axs=plt.subplots(2,figsize=(12,8))\n",
    "axs[0].scatter(light_curve['hjd'],light_curve['mag'],s=2)\n",
    "axs[0].invert_yaxis()\n",
    "axs[0].set_ylim(15.65,15)\n",
    "axs[0].set_xlabel('Days Since First Obs')\n",
    "axs[0].set_ylabel('Mag')\n",
    "axs[0].set_title('Full Lightcurve')\n",
    "\n",
    "\n",
    "axs[1].scatter((light_curve['hjd']%(2*period))/period,light_curve['mag'],s=2)\n",
    "axs[1].invert_yaxis()\n",
    "axs[1].set_ylim(15.65,15)\n",
    "axs[1].set_xlabel('Phase')\n",
    "axs[1].set_ylabel('Mag')\n",
    "axs[1].set_title(f'Phase folded Lightcurve as period {period:.4f}')\n",
    "plt.tight_layout()"
   ]
  },
  {
   "cell_type": "markdown",
   "metadata": {},
   "source": [
    "Seeing the light curve reviles that it is a Delta Scuti (This is a known sources see [here](https://simbad.u-strasbg.fr/simbad/sim-coo?protocol=html&NbIdent=us=30&Radius.unit=arcsec&CooFrame=FK5&CooEpoch=2000&CooEqui=2000&Coord=43.3365825d+48.2069786d)<-- link to internet)"
   ]
  }
 ],
 "metadata": {
  "kernelspec": {
   "display_name": "BigData",
   "language": "python",
   "name": "python3"
  },
  "language_info": {
   "codemirror_mode": {
    "name": "ipython",
    "version": 3
   },
   "file_extension": ".py",
   "mimetype": "text/x-python",
   "name": "python",
   "nbconvert_exporter": "python",
   "pygments_lexer": "ipython3",
   "version": "3.12.2"
  },
  "orig_nbformat": 4
 },
 "nbformat": 4,
 "nbformat_minor": 2
}
