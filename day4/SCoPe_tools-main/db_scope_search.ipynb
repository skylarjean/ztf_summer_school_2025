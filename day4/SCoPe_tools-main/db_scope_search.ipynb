{
 "cells": [
  {
   "cell_type": "markdown",
   "metadata": {},
   "source": [
    "# Accessing SCoPe online\n",
    "This notebook will go over how to use the `scope_client` class to access the SCoPe catalogs.\n",
    "\n",
    "1. [initalize](#initalize)\n",
    "2. [`cone_search` and `cone_searches`](#cone)\n",
    "3. [`ids_search`](#id)\n",
    "4. [`search_by_classification` and `search_by_features`](#serach)\n",
    "5. [Plot classifications](#plot)\n",
    "6. [Retrive light curves](#lc)\n",
    "7. [Examples](#ex)\n",
    "    1. [CMD](#cmd)\n",
    "    2. [Single source](#singlesource)\n",
    "\n",
    "\n",
    "(links are broken, will fix another time)"
   ]
  },
  {
   "cell_type": "markdown",
   "metadata": {},
   "source": [
    "## <a id=\"initalize\"></a> 1. Initalize `scope_client`"
   ]
  },
  {
   "cell_type": "markdown",
   "metadata": {},
   "source": [
    "`scope_client` is built on top of `Kowalski` so it needs the same credetials. The tables for SCoPe all live on `gloria` so it is the only nessecary host. Adding other hosts will break the code. Specify this information in the `config.yaml` file and ONLY use hosts that you have access to."
   ]
  },
  {
   "cell_type": "code",
   "execution_count": 2,
   "metadata": {},
   "outputs": [
    {
     "ename": "ValueError",
     "evalue": "Failed to add instance gloria: HTTPSConnectionPool(host='gloria.caltech.edu', port=443): Max retries exceeded with url: /api/auth (Caused by SSLError(SSLCertVerificationError(1, '[SSL: CERTIFICATE_VERIFY_FAILED] certificate verify failed: unable to get local issuer certificate (_ssl.c:1000)')))",
     "output_type": "error",
     "traceback": [
      "\u001b[31m---------------------------------------------------------------------------\u001b[39m",
      "\u001b[31mSSLCertVerificationError\u001b[39m                  Traceback (most recent call last)",
      "\u001b[36mFile \u001b[39m\u001b[32m~/anaconda3/envs/ztfss25/lib/python3.12/site-packages/urllib3/connectionpool.py:464\u001b[39m, in \u001b[36mHTTPConnectionPool._make_request\u001b[39m\u001b[34m(self, conn, method, url, body, headers, retries, timeout, chunked, response_conn, preload_content, decode_content, enforce_content_length)\u001b[39m\n\u001b[32m    463\u001b[39m \u001b[38;5;28;01mtry\u001b[39;00m:\n\u001b[32m--> \u001b[39m\u001b[32m464\u001b[39m     \u001b[38;5;28mself\u001b[39m._validate_conn(conn)\n\u001b[32m    465\u001b[39m \u001b[38;5;28;01mexcept\u001b[39;00m (SocketTimeout, BaseSSLError) \u001b[38;5;28;01mas\u001b[39;00m e:\n",
      "\u001b[36mFile \u001b[39m\u001b[32m~/anaconda3/envs/ztfss25/lib/python3.12/site-packages/urllib3/connectionpool.py:1093\u001b[39m, in \u001b[36mHTTPSConnectionPool._validate_conn\u001b[39m\u001b[34m(self, conn)\u001b[39m\n\u001b[32m   1092\u001b[39m \u001b[38;5;28;01mif\u001b[39;00m conn.is_closed:\n\u001b[32m-> \u001b[39m\u001b[32m1093\u001b[39m     conn.connect()\n\u001b[32m   1095\u001b[39m \u001b[38;5;66;03m# TODO revise this, see https://github.com/urllib3/urllib3/issues/2791\u001b[39;00m\n",
      "\u001b[36mFile \u001b[39m\u001b[32m~/anaconda3/envs/ztfss25/lib/python3.12/site-packages/urllib3/connection.py:790\u001b[39m, in \u001b[36mHTTPSConnection.connect\u001b[39m\u001b[34m(self)\u001b[39m\n\u001b[32m    788\u001b[39m server_hostname_rm_dot = server_hostname.rstrip(\u001b[33m\"\u001b[39m\u001b[33m.\u001b[39m\u001b[33m\"\u001b[39m)\n\u001b[32m--> \u001b[39m\u001b[32m790\u001b[39m sock_and_verified = _ssl_wrap_socket_and_match_hostname(\n\u001b[32m    791\u001b[39m     sock=sock,\n\u001b[32m    792\u001b[39m     cert_reqs=\u001b[38;5;28mself\u001b[39m.cert_reqs,\n\u001b[32m    793\u001b[39m     ssl_version=\u001b[38;5;28mself\u001b[39m.ssl_version,\n\u001b[32m    794\u001b[39m     ssl_minimum_version=\u001b[38;5;28mself\u001b[39m.ssl_minimum_version,\n\u001b[32m    795\u001b[39m     ssl_maximum_version=\u001b[38;5;28mself\u001b[39m.ssl_maximum_version,\n\u001b[32m    796\u001b[39m     ca_certs=\u001b[38;5;28mself\u001b[39m.ca_certs,\n\u001b[32m    797\u001b[39m     ca_cert_dir=\u001b[38;5;28mself\u001b[39m.ca_cert_dir,\n\u001b[32m    798\u001b[39m     ca_cert_data=\u001b[38;5;28mself\u001b[39m.ca_cert_data,\n\u001b[32m    799\u001b[39m     cert_file=\u001b[38;5;28mself\u001b[39m.cert_file,\n\u001b[32m    800\u001b[39m     key_file=\u001b[38;5;28mself\u001b[39m.key_file,\n\u001b[32m    801\u001b[39m     key_password=\u001b[38;5;28mself\u001b[39m.key_password,\n\u001b[32m    802\u001b[39m     server_hostname=server_hostname_rm_dot,\n\u001b[32m    803\u001b[39m     ssl_context=\u001b[38;5;28mself\u001b[39m.ssl_context,\n\u001b[32m    804\u001b[39m     tls_in_tls=tls_in_tls,\n\u001b[32m    805\u001b[39m     assert_hostname=\u001b[38;5;28mself\u001b[39m.assert_hostname,\n\u001b[32m    806\u001b[39m     assert_fingerprint=\u001b[38;5;28mself\u001b[39m.assert_fingerprint,\n\u001b[32m    807\u001b[39m )\n\u001b[32m    808\u001b[39m \u001b[38;5;28mself\u001b[39m.sock = sock_and_verified.socket\n",
      "\u001b[36mFile \u001b[39m\u001b[32m~/anaconda3/envs/ztfss25/lib/python3.12/site-packages/urllib3/connection.py:969\u001b[39m, in \u001b[36m_ssl_wrap_socket_and_match_hostname\u001b[39m\u001b[34m(sock, cert_reqs, ssl_version, ssl_minimum_version, ssl_maximum_version, cert_file, key_file, key_password, ca_certs, ca_cert_dir, ca_cert_data, assert_hostname, assert_fingerprint, server_hostname, ssl_context, tls_in_tls)\u001b[39m\n\u001b[32m    967\u001b[39m         server_hostname = normalized\n\u001b[32m--> \u001b[39m\u001b[32m969\u001b[39m ssl_sock = ssl_wrap_socket(\n\u001b[32m    970\u001b[39m     sock=sock,\n\u001b[32m    971\u001b[39m     keyfile=key_file,\n\u001b[32m    972\u001b[39m     certfile=cert_file,\n\u001b[32m    973\u001b[39m     key_password=key_password,\n\u001b[32m    974\u001b[39m     ca_certs=ca_certs,\n\u001b[32m    975\u001b[39m     ca_cert_dir=ca_cert_dir,\n\u001b[32m    976\u001b[39m     ca_cert_data=ca_cert_data,\n\u001b[32m    977\u001b[39m     server_hostname=server_hostname,\n\u001b[32m    978\u001b[39m     ssl_context=context,\n\u001b[32m    979\u001b[39m     tls_in_tls=tls_in_tls,\n\u001b[32m    980\u001b[39m )\n\u001b[32m    982\u001b[39m \u001b[38;5;28;01mtry\u001b[39;00m:\n",
      "\u001b[36mFile \u001b[39m\u001b[32m~/anaconda3/envs/ztfss25/lib/python3.12/site-packages/urllib3/util/ssl_.py:480\u001b[39m, in \u001b[36mssl_wrap_socket\u001b[39m\u001b[34m(sock, keyfile, certfile, cert_reqs, ca_certs, server_hostname, ssl_version, ciphers, ssl_context, ca_cert_dir, key_password, ca_cert_data, tls_in_tls)\u001b[39m\n\u001b[32m    478\u001b[39m context.set_alpn_protocols(ALPN_PROTOCOLS)\n\u001b[32m--> \u001b[39m\u001b[32m480\u001b[39m ssl_sock = _ssl_wrap_socket_impl(sock, context, tls_in_tls, server_hostname)\n\u001b[32m    481\u001b[39m \u001b[38;5;28;01mreturn\u001b[39;00m ssl_sock\n",
      "\u001b[36mFile \u001b[39m\u001b[32m~/anaconda3/envs/ztfss25/lib/python3.12/site-packages/urllib3/util/ssl_.py:524\u001b[39m, in \u001b[36m_ssl_wrap_socket_impl\u001b[39m\u001b[34m(sock, ssl_context, tls_in_tls, server_hostname)\u001b[39m\n\u001b[32m    522\u001b[39m     \u001b[38;5;28;01mreturn\u001b[39;00m SSLTransport(sock, ssl_context, server_hostname)\n\u001b[32m--> \u001b[39m\u001b[32m524\u001b[39m \u001b[38;5;28;01mreturn\u001b[39;00m ssl_context.wrap_socket(sock, server_hostname=server_hostname)\n",
      "\u001b[36mFile \u001b[39m\u001b[32m~/anaconda3/envs/ztfss25/lib/python3.12/ssl.py:455\u001b[39m, in \u001b[36mSSLContext.wrap_socket\u001b[39m\u001b[34m(self, sock, server_side, do_handshake_on_connect, suppress_ragged_eofs, server_hostname, session)\u001b[39m\n\u001b[32m    449\u001b[39m \u001b[38;5;28;01mdef\u001b[39;00m\u001b[38;5;250m \u001b[39m\u001b[34mwrap_socket\u001b[39m(\u001b[38;5;28mself\u001b[39m, sock, server_side=\u001b[38;5;28;01mFalse\u001b[39;00m,\n\u001b[32m    450\u001b[39m                 do_handshake_on_connect=\u001b[38;5;28;01mTrue\u001b[39;00m,\n\u001b[32m    451\u001b[39m                 suppress_ragged_eofs=\u001b[38;5;28;01mTrue\u001b[39;00m,\n\u001b[32m    452\u001b[39m                 server_hostname=\u001b[38;5;28;01mNone\u001b[39;00m, session=\u001b[38;5;28;01mNone\u001b[39;00m):\n\u001b[32m    453\u001b[39m     \u001b[38;5;66;03m# SSLSocket class handles server_hostname encoding before it calls\u001b[39;00m\n\u001b[32m    454\u001b[39m     \u001b[38;5;66;03m# ctx._wrap_socket()\u001b[39;00m\n\u001b[32m--> \u001b[39m\u001b[32m455\u001b[39m     \u001b[38;5;28;01mreturn\u001b[39;00m \u001b[38;5;28mself\u001b[39m.sslsocket_class._create(\n\u001b[32m    456\u001b[39m         sock=sock,\n\u001b[32m    457\u001b[39m         server_side=server_side,\n\u001b[32m    458\u001b[39m         do_handshake_on_connect=do_handshake_on_connect,\n\u001b[32m    459\u001b[39m         suppress_ragged_eofs=suppress_ragged_eofs,\n\u001b[32m    460\u001b[39m         server_hostname=server_hostname,\n\u001b[32m    461\u001b[39m         context=\u001b[38;5;28mself\u001b[39m,\n\u001b[32m    462\u001b[39m         session=session\n\u001b[32m    463\u001b[39m     )\n",
      "\u001b[36mFile \u001b[39m\u001b[32m~/anaconda3/envs/ztfss25/lib/python3.12/ssl.py:1042\u001b[39m, in \u001b[36mSSLSocket._create\u001b[39m\u001b[34m(cls, sock, server_side, do_handshake_on_connect, suppress_ragged_eofs, server_hostname, context, session)\u001b[39m\n\u001b[32m   1041\u001b[39m                 \u001b[38;5;28;01mraise\u001b[39;00m \u001b[38;5;167;01mValueError\u001b[39;00m(\u001b[33m\"\u001b[39m\u001b[33mdo_handshake_on_connect should not be specified for non-blocking sockets\u001b[39m\u001b[33m\"\u001b[39m)\n\u001b[32m-> \u001b[39m\u001b[32m1042\u001b[39m             \u001b[38;5;28mself\u001b[39m.do_handshake()\n\u001b[32m   1043\u001b[39m \u001b[38;5;28;01mexcept\u001b[39;00m:\n",
      "\u001b[36mFile \u001b[39m\u001b[32m~/anaconda3/envs/ztfss25/lib/python3.12/ssl.py:1320\u001b[39m, in \u001b[36mSSLSocket.do_handshake\u001b[39m\u001b[34m(self, block)\u001b[39m\n\u001b[32m   1319\u001b[39m         \u001b[38;5;28mself\u001b[39m.settimeout(\u001b[38;5;28;01mNone\u001b[39;00m)\n\u001b[32m-> \u001b[39m\u001b[32m1320\u001b[39m     \u001b[38;5;28mself\u001b[39m._sslobj.do_handshake()\n\u001b[32m   1321\u001b[39m \u001b[38;5;28;01mfinally\u001b[39;00m:\n",
      "\u001b[31mSSLCertVerificationError\u001b[39m: [SSL: CERTIFICATE_VERIFY_FAILED] certificate verify failed: unable to get local issuer certificate (_ssl.c:1000)",
      "\nDuring handling of the above exception, another exception occurred:\n",
      "\u001b[31mSSLError\u001b[39m                                  Traceback (most recent call last)",
      "\u001b[36mFile \u001b[39m\u001b[32m~/anaconda3/envs/ztfss25/lib/python3.12/site-packages/urllib3/connectionpool.py:787\u001b[39m, in \u001b[36mHTTPConnectionPool.urlopen\u001b[39m\u001b[34m(self, method, url, body, headers, retries, redirect, assert_same_host, timeout, pool_timeout, release_conn, chunked, body_pos, preload_content, decode_content, **response_kw)\u001b[39m\n\u001b[32m    786\u001b[39m \u001b[38;5;66;03m# Make the request on the HTTPConnection object\u001b[39;00m\n\u001b[32m--> \u001b[39m\u001b[32m787\u001b[39m response = \u001b[38;5;28mself\u001b[39m._make_request(\n\u001b[32m    788\u001b[39m     conn,\n\u001b[32m    789\u001b[39m     method,\n\u001b[32m    790\u001b[39m     url,\n\u001b[32m    791\u001b[39m     timeout=timeout_obj,\n\u001b[32m    792\u001b[39m     body=body,\n\u001b[32m    793\u001b[39m     headers=headers,\n\u001b[32m    794\u001b[39m     chunked=chunked,\n\u001b[32m    795\u001b[39m     retries=retries,\n\u001b[32m    796\u001b[39m     response_conn=response_conn,\n\u001b[32m    797\u001b[39m     preload_content=preload_content,\n\u001b[32m    798\u001b[39m     decode_content=decode_content,\n\u001b[32m    799\u001b[39m     **response_kw,\n\u001b[32m    800\u001b[39m )\n\u001b[32m    802\u001b[39m \u001b[38;5;66;03m# Everything went great!\u001b[39;00m\n",
      "\u001b[36mFile \u001b[39m\u001b[32m~/anaconda3/envs/ztfss25/lib/python3.12/site-packages/urllib3/connectionpool.py:488\u001b[39m, in \u001b[36mHTTPConnectionPool._make_request\u001b[39m\u001b[34m(self, conn, method, url, body, headers, retries, timeout, chunked, response_conn, preload_content, decode_content, enforce_content_length)\u001b[39m\n\u001b[32m    487\u001b[39m         new_e = _wrap_proxy_error(new_e, conn.proxy.scheme)\n\u001b[32m--> \u001b[39m\u001b[32m488\u001b[39m     \u001b[38;5;28;01mraise\u001b[39;00m new_e\n\u001b[32m    490\u001b[39m \u001b[38;5;66;03m# conn.request() calls http.client.*.request, not the method in\u001b[39;00m\n\u001b[32m    491\u001b[39m \u001b[38;5;66;03m# urllib3.request. It also calls makefile (recv) on the socket.\u001b[39;00m\n",
      "\u001b[31mSSLError\u001b[39m: [SSL: CERTIFICATE_VERIFY_FAILED] certificate verify failed: unable to get local issuer certificate (_ssl.c:1000)",
      "\nThe above exception was the direct cause of the following exception:\n",
      "\u001b[31mMaxRetryError\u001b[39m                             Traceback (most recent call last)",
      "\u001b[36mFile \u001b[39m\u001b[32m~/anaconda3/envs/ztfss25/lib/python3.12/site-packages/requests/adapters.py:667\u001b[39m, in \u001b[36mHTTPAdapter.send\u001b[39m\u001b[34m(self, request, stream, timeout, verify, cert, proxies)\u001b[39m\n\u001b[32m    666\u001b[39m \u001b[38;5;28;01mtry\u001b[39;00m:\n\u001b[32m--> \u001b[39m\u001b[32m667\u001b[39m     resp = conn.urlopen(\n\u001b[32m    668\u001b[39m         method=request.method,\n\u001b[32m    669\u001b[39m         url=url,\n\u001b[32m    670\u001b[39m         body=request.body,\n\u001b[32m    671\u001b[39m         headers=request.headers,\n\u001b[32m    672\u001b[39m         redirect=\u001b[38;5;28;01mFalse\u001b[39;00m,\n\u001b[32m    673\u001b[39m         assert_same_host=\u001b[38;5;28;01mFalse\u001b[39;00m,\n\u001b[32m    674\u001b[39m         preload_content=\u001b[38;5;28;01mFalse\u001b[39;00m,\n\u001b[32m    675\u001b[39m         decode_content=\u001b[38;5;28;01mFalse\u001b[39;00m,\n\u001b[32m    676\u001b[39m         retries=\u001b[38;5;28mself\u001b[39m.max_retries,\n\u001b[32m    677\u001b[39m         timeout=timeout,\n\u001b[32m    678\u001b[39m         chunked=chunked,\n\u001b[32m    679\u001b[39m     )\n\u001b[32m    681\u001b[39m \u001b[38;5;28;01mexcept\u001b[39;00m (ProtocolError, \u001b[38;5;167;01mOSError\u001b[39;00m) \u001b[38;5;28;01mas\u001b[39;00m err:\n",
      "\u001b[36mFile \u001b[39m\u001b[32m~/anaconda3/envs/ztfss25/lib/python3.12/site-packages/urllib3/connectionpool.py:871\u001b[39m, in \u001b[36mHTTPConnectionPool.urlopen\u001b[39m\u001b[34m(self, method, url, body, headers, retries, redirect, assert_same_host, timeout, pool_timeout, release_conn, chunked, body_pos, preload_content, decode_content, **response_kw)\u001b[39m\n\u001b[32m    868\u001b[39m     log.warning(\n\u001b[32m    869\u001b[39m         \u001b[33m\"\u001b[39m\u001b[33mRetrying (\u001b[39m\u001b[38;5;132;01m%r\u001b[39;00m\u001b[33m) after connection broken by \u001b[39m\u001b[33m'\u001b[39m\u001b[38;5;132;01m%r\u001b[39;00m\u001b[33m'\u001b[39m\u001b[33m: \u001b[39m\u001b[38;5;132;01m%s\u001b[39;00m\u001b[33m\"\u001b[39m, retries, err, url\n\u001b[32m    870\u001b[39m     )\n\u001b[32m--> \u001b[39m\u001b[32m871\u001b[39m     \u001b[38;5;28;01mreturn\u001b[39;00m \u001b[38;5;28mself\u001b[39m.urlopen(\n\u001b[32m    872\u001b[39m         method,\n\u001b[32m    873\u001b[39m         url,\n\u001b[32m    874\u001b[39m         body,\n\u001b[32m    875\u001b[39m         headers,\n\u001b[32m    876\u001b[39m         retries,\n\u001b[32m    877\u001b[39m         redirect,\n\u001b[32m    878\u001b[39m         assert_same_host,\n\u001b[32m    879\u001b[39m         timeout=timeout,\n\u001b[32m    880\u001b[39m         pool_timeout=pool_timeout,\n\u001b[32m    881\u001b[39m         release_conn=release_conn,\n\u001b[32m    882\u001b[39m         chunked=chunked,\n\u001b[32m    883\u001b[39m         body_pos=body_pos,\n\u001b[32m    884\u001b[39m         preload_content=preload_content,\n\u001b[32m    885\u001b[39m         decode_content=decode_content,\n\u001b[32m    886\u001b[39m         **response_kw,\n\u001b[32m    887\u001b[39m     )\n\u001b[32m    889\u001b[39m \u001b[38;5;66;03m# Handle redirect?\u001b[39;00m\n",
      "\u001b[36mFile \u001b[39m\u001b[32m~/anaconda3/envs/ztfss25/lib/python3.12/site-packages/urllib3/connectionpool.py:871\u001b[39m, in \u001b[36mHTTPConnectionPool.urlopen\u001b[39m\u001b[34m(self, method, url, body, headers, retries, redirect, assert_same_host, timeout, pool_timeout, release_conn, chunked, body_pos, preload_content, decode_content, **response_kw)\u001b[39m\n\u001b[32m    868\u001b[39m     log.warning(\n\u001b[32m    869\u001b[39m         \u001b[33m\"\u001b[39m\u001b[33mRetrying (\u001b[39m\u001b[38;5;132;01m%r\u001b[39;00m\u001b[33m) after connection broken by \u001b[39m\u001b[33m'\u001b[39m\u001b[38;5;132;01m%r\u001b[39;00m\u001b[33m'\u001b[39m\u001b[33m: \u001b[39m\u001b[38;5;132;01m%s\u001b[39;00m\u001b[33m\"\u001b[39m, retries, err, url\n\u001b[32m    870\u001b[39m     )\n\u001b[32m--> \u001b[39m\u001b[32m871\u001b[39m     \u001b[38;5;28;01mreturn\u001b[39;00m \u001b[38;5;28mself\u001b[39m.urlopen(\n\u001b[32m    872\u001b[39m         method,\n\u001b[32m    873\u001b[39m         url,\n\u001b[32m    874\u001b[39m         body,\n\u001b[32m    875\u001b[39m         headers,\n\u001b[32m    876\u001b[39m         retries,\n\u001b[32m    877\u001b[39m         redirect,\n\u001b[32m    878\u001b[39m         assert_same_host,\n\u001b[32m    879\u001b[39m         timeout=timeout,\n\u001b[32m    880\u001b[39m         pool_timeout=pool_timeout,\n\u001b[32m    881\u001b[39m         release_conn=release_conn,\n\u001b[32m    882\u001b[39m         chunked=chunked,\n\u001b[32m    883\u001b[39m         body_pos=body_pos,\n\u001b[32m    884\u001b[39m         preload_content=preload_content,\n\u001b[32m    885\u001b[39m         decode_content=decode_content,\n\u001b[32m    886\u001b[39m         **response_kw,\n\u001b[32m    887\u001b[39m     )\n\u001b[32m    889\u001b[39m \u001b[38;5;66;03m# Handle redirect?\u001b[39;00m\n",
      "\u001b[36mFile \u001b[39m\u001b[32m~/anaconda3/envs/ztfss25/lib/python3.12/site-packages/urllib3/connectionpool.py:871\u001b[39m, in \u001b[36mHTTPConnectionPool.urlopen\u001b[39m\u001b[34m(self, method, url, body, headers, retries, redirect, assert_same_host, timeout, pool_timeout, release_conn, chunked, body_pos, preload_content, decode_content, **response_kw)\u001b[39m\n\u001b[32m    868\u001b[39m     log.warning(\n\u001b[32m    869\u001b[39m         \u001b[33m\"\u001b[39m\u001b[33mRetrying (\u001b[39m\u001b[38;5;132;01m%r\u001b[39;00m\u001b[33m) after connection broken by \u001b[39m\u001b[33m'\u001b[39m\u001b[38;5;132;01m%r\u001b[39;00m\u001b[33m'\u001b[39m\u001b[33m: \u001b[39m\u001b[38;5;132;01m%s\u001b[39;00m\u001b[33m\"\u001b[39m, retries, err, url\n\u001b[32m    870\u001b[39m     )\n\u001b[32m--> \u001b[39m\u001b[32m871\u001b[39m     \u001b[38;5;28;01mreturn\u001b[39;00m \u001b[38;5;28mself\u001b[39m.urlopen(\n\u001b[32m    872\u001b[39m         method,\n\u001b[32m    873\u001b[39m         url,\n\u001b[32m    874\u001b[39m         body,\n\u001b[32m    875\u001b[39m         headers,\n\u001b[32m    876\u001b[39m         retries,\n\u001b[32m    877\u001b[39m         redirect,\n\u001b[32m    878\u001b[39m         assert_same_host,\n\u001b[32m    879\u001b[39m         timeout=timeout,\n\u001b[32m    880\u001b[39m         pool_timeout=pool_timeout,\n\u001b[32m    881\u001b[39m         release_conn=release_conn,\n\u001b[32m    882\u001b[39m         chunked=chunked,\n\u001b[32m    883\u001b[39m         body_pos=body_pos,\n\u001b[32m    884\u001b[39m         preload_content=preload_content,\n\u001b[32m    885\u001b[39m         decode_content=decode_content,\n\u001b[32m    886\u001b[39m         **response_kw,\n\u001b[32m    887\u001b[39m     )\n\u001b[32m    889\u001b[39m \u001b[38;5;66;03m# Handle redirect?\u001b[39;00m\n",
      "\u001b[36mFile \u001b[39m\u001b[32m~/anaconda3/envs/ztfss25/lib/python3.12/site-packages/urllib3/connectionpool.py:841\u001b[39m, in \u001b[36mHTTPConnectionPool.urlopen\u001b[39m\u001b[34m(self, method, url, body, headers, retries, redirect, assert_same_host, timeout, pool_timeout, release_conn, chunked, body_pos, preload_content, decode_content, **response_kw)\u001b[39m\n\u001b[32m    839\u001b[39m     new_e = ProtocolError(\u001b[33m\"\u001b[39m\u001b[33mConnection aborted.\u001b[39m\u001b[33m\"\u001b[39m, new_e)\n\u001b[32m--> \u001b[39m\u001b[32m841\u001b[39m retries = retries.increment(\n\u001b[32m    842\u001b[39m     method, url, error=new_e, _pool=\u001b[38;5;28mself\u001b[39m, _stacktrace=sys.exc_info()[\u001b[32m2\u001b[39m]\n\u001b[32m    843\u001b[39m )\n\u001b[32m    844\u001b[39m retries.sleep()\n",
      "\u001b[36mFile \u001b[39m\u001b[32m~/anaconda3/envs/ztfss25/lib/python3.12/site-packages/urllib3/util/retry.py:519\u001b[39m, in \u001b[36mRetry.increment\u001b[39m\u001b[34m(self, method, url, response, error, _pool, _stacktrace)\u001b[39m\n\u001b[32m    518\u001b[39m     reason = error \u001b[38;5;129;01mor\u001b[39;00m ResponseError(cause)\n\u001b[32m--> \u001b[39m\u001b[32m519\u001b[39m     \u001b[38;5;28;01mraise\u001b[39;00m MaxRetryError(_pool, url, reason) \u001b[38;5;28;01mfrom\u001b[39;00m\u001b[38;5;250m \u001b[39m\u001b[34;01mreason\u001b[39;00m  \u001b[38;5;66;03m# type: ignore[arg-type]\u001b[39;00m\n\u001b[32m    521\u001b[39m log.debug(\u001b[33m\"\u001b[39m\u001b[33mIncremented Retry for (url=\u001b[39m\u001b[33m'\u001b[39m\u001b[38;5;132;01m%s\u001b[39;00m\u001b[33m'\u001b[39m\u001b[33m): \u001b[39m\u001b[38;5;132;01m%r\u001b[39;00m\u001b[33m\"\u001b[39m, url, new_retry)\n",
      "\u001b[31mMaxRetryError\u001b[39m: HTTPSConnectionPool(host='gloria.caltech.edu', port=443): Max retries exceeded with url: /api/auth (Caused by SSLError(SSLCertVerificationError(1, '[SSL: CERTIFICATE_VERIFY_FAILED] certificate verify failed: unable to get local issuer certificate (_ssl.c:1000)')))",
      "\nDuring handling of the above exception, another exception occurred:\n",
      "\u001b[31mSSLError\u001b[39m                                  Traceback (most recent call last)",
      "\u001b[36mFile \u001b[39m\u001b[32m~/anaconda3/envs/ztfss25/lib/python3.12/site-packages/penquins/penquins.py:204\u001b[39m, in \u001b[36mKowalski.add\u001b[39m\u001b[34m(self, name, cfg, **kwargs)\u001b[39m\n\u001b[32m    203\u001b[39m     \u001b[38;5;28mself\u001b[39m.instances[name][\u001b[33m\"\u001b[39m\u001b[33mpassword\u001b[39m\u001b[33m\"\u001b[39m] = cfg.get(\u001b[33m\"\u001b[39m\u001b[33mpassword\u001b[39m\u001b[33m\"\u001b[39m, \u001b[38;5;28;01mNone\u001b[39;00m)\n\u001b[32m--> \u001b[39m\u001b[32m204\u001b[39m     \u001b[38;5;28mself\u001b[39m.instances[name][\u001b[33m\"\u001b[39m\u001b[33mtoken\u001b[39m\u001b[33m\"\u001b[39m] = \u001b[38;5;28mself\u001b[39m.authenticate(name)\n\u001b[32m    205\u001b[39m \u001b[38;5;28;01melse\u001b[39;00m:\n",
      "\u001b[36mFile \u001b[39m\u001b[32m~/anaconda3/envs/ztfss25/lib/python3.12/site-packages/penquins/penquins.py:300\u001b[39m, in \u001b[36mKowalski.authenticate\u001b[39m\u001b[34m(self, name)\u001b[39m\n\u001b[32m    299\u001b[39m \u001b[38;5;66;03m# post username and password, get access token\u001b[39;00m\n\u001b[32m--> \u001b[39m\u001b[32m300\u001b[39m auth = \u001b[38;5;28mself\u001b[39m.instances[name][\u001b[33m\"\u001b[39m\u001b[33msession\u001b[39m\u001b[33m\"\u001b[39m].post(\n\u001b[32m    301\u001b[39m     \u001b[33mf\u001b[39m\u001b[33m\"\u001b[39m\u001b[38;5;132;01m{\u001b[39;00m\u001b[38;5;28mself\u001b[39m.instances[name][\u001b[33m'\u001b[39m\u001b[33mbase_url\u001b[39m\u001b[33m'\u001b[39m]\u001b[38;5;132;01m}\u001b[39;00m\u001b[33m/api/auth\u001b[39m\u001b[33m\"\u001b[39m,\n\u001b[32m    302\u001b[39m     json={\n\u001b[32m    303\u001b[39m         \u001b[33m\"\u001b[39m\u001b[33musername\u001b[39m\u001b[33m\"\u001b[39m: \u001b[38;5;28mself\u001b[39m.instances[name][\u001b[33m\"\u001b[39m\u001b[33musername\u001b[39m\u001b[33m\"\u001b[39m],\n\u001b[32m    304\u001b[39m         \u001b[33m\"\u001b[39m\u001b[33mpassword\u001b[39m\u001b[33m\"\u001b[39m: \u001b[38;5;28mself\u001b[39m.instances[name][\u001b[33m\"\u001b[39m\u001b[33mpassword\u001b[39m\u001b[33m\"\u001b[39m],\n\u001b[32m    305\u001b[39m         \u001b[33m\"\u001b[39m\u001b[33mpenquins.__version__\u001b[39m\u001b[33m\"\u001b[39m: __version__,\n\u001b[32m    306\u001b[39m     },\n\u001b[32m    307\u001b[39m )\n\u001b[32m    309\u001b[39m \u001b[38;5;28;01mif\u001b[39;00m auth.status_code == requests.codes.ok:\n",
      "\u001b[36mFile \u001b[39m\u001b[32m~/anaconda3/envs/ztfss25/lib/python3.12/site-packages/requests/sessions.py:637\u001b[39m, in \u001b[36mSession.post\u001b[39m\u001b[34m(self, url, data, json, **kwargs)\u001b[39m\n\u001b[32m    627\u001b[39m \u001b[38;5;250m\u001b[39m\u001b[33mr\u001b[39m\u001b[33;03m\"\"\"Sends a POST request. Returns :class:`Response` object.\u001b[39;00m\n\u001b[32m    628\u001b[39m \n\u001b[32m    629\u001b[39m \u001b[33;03m:param url: URL for the new :class:`Request` object.\u001b[39;00m\n\u001b[32m   (...)\u001b[39m\u001b[32m    634\u001b[39m \u001b[33;03m:rtype: requests.Response\u001b[39;00m\n\u001b[32m    635\u001b[39m \u001b[33;03m\"\"\"\u001b[39;00m\n\u001b[32m--> \u001b[39m\u001b[32m637\u001b[39m \u001b[38;5;28;01mreturn\u001b[39;00m \u001b[38;5;28mself\u001b[39m.request(\u001b[33m\"\u001b[39m\u001b[33mPOST\u001b[39m\u001b[33m\"\u001b[39m, url, data=data, json=json, **kwargs)\n",
      "\u001b[36mFile \u001b[39m\u001b[32m~/anaconda3/envs/ztfss25/lib/python3.12/site-packages/requests/sessions.py:589\u001b[39m, in \u001b[36mSession.request\u001b[39m\u001b[34m(self, method, url, params, data, headers, cookies, files, auth, timeout, allow_redirects, proxies, hooks, stream, verify, cert, json)\u001b[39m\n\u001b[32m    588\u001b[39m send_kwargs.update(settings)\n\u001b[32m--> \u001b[39m\u001b[32m589\u001b[39m resp = \u001b[38;5;28mself\u001b[39m.send(prep, **send_kwargs)\n\u001b[32m    591\u001b[39m \u001b[38;5;28;01mreturn\u001b[39;00m resp\n",
      "\u001b[36mFile \u001b[39m\u001b[32m~/anaconda3/envs/ztfss25/lib/python3.12/site-packages/requests/sessions.py:703\u001b[39m, in \u001b[36mSession.send\u001b[39m\u001b[34m(self, request, **kwargs)\u001b[39m\n\u001b[32m    702\u001b[39m \u001b[38;5;66;03m# Send the request\u001b[39;00m\n\u001b[32m--> \u001b[39m\u001b[32m703\u001b[39m r = adapter.send(request, **kwargs)\n\u001b[32m    705\u001b[39m \u001b[38;5;66;03m# Total elapsed time of the request (approximately)\u001b[39;00m\n",
      "\u001b[36mFile \u001b[39m\u001b[32m~/anaconda3/envs/ztfss25/lib/python3.12/site-packages/penquins/penquins.py:52\u001b[39m, in \u001b[36mTimeoutHTTPAdapter.send\u001b[39m\u001b[34m(self, request, **kwargs)\u001b[39m\n\u001b[32m     51\u001b[39m         kwargs[\u001b[33m\"\u001b[39m\u001b[33mtimeout\u001b[39m\u001b[33m\"\u001b[39m] = \u001b[38;5;28mself\u001b[39m.timeout\n\u001b[32m---> \u001b[39m\u001b[32m52\u001b[39m     \u001b[38;5;28;01mreturn\u001b[39;00m \u001b[38;5;28msuper\u001b[39m().send(request, **kwargs)\n\u001b[32m     53\u001b[39m \u001b[38;5;28;01mexcept\u001b[39;00m \u001b[38;5;167;01mAttributeError\u001b[39;00m:\n",
      "\u001b[36mFile \u001b[39m\u001b[32m~/anaconda3/envs/ztfss25/lib/python3.12/site-packages/requests/adapters.py:698\u001b[39m, in \u001b[36mHTTPAdapter.send\u001b[39m\u001b[34m(self, request, stream, timeout, verify, cert, proxies)\u001b[39m\n\u001b[32m    696\u001b[39m \u001b[38;5;28;01mif\u001b[39;00m \u001b[38;5;28misinstance\u001b[39m(e.reason, _SSLError):\n\u001b[32m    697\u001b[39m     \u001b[38;5;66;03m# This branch is for urllib3 v1.22 and later.\u001b[39;00m\n\u001b[32m--> \u001b[39m\u001b[32m698\u001b[39m     \u001b[38;5;28;01mraise\u001b[39;00m SSLError(e, request=request)\n\u001b[32m    700\u001b[39m \u001b[38;5;28;01mraise\u001b[39;00m \u001b[38;5;167;01mConnectionError\u001b[39;00m(e, request=request)\n",
      "\u001b[31mSSLError\u001b[39m: HTTPSConnectionPool(host='gloria.caltech.edu', port=443): Max retries exceeded with url: /api/auth (Caused by SSLError(SSLCertVerificationError(1, '[SSL: CERTIFICATE_VERIFY_FAILED] certificate verify failed: unable to get local issuer certificate (_ssl.c:1000)')))",
      "\nDuring handling of the above exception, another exception occurred:\n",
      "\u001b[31mValueError\u001b[39m                                Traceback (most recent call last)",
      "\u001b[36mCell\u001b[39m\u001b[36m \u001b[39m\u001b[32mIn[2]\u001b[39m\u001b[32m, line 6\u001b[39m\n\u001b[32m      4\u001b[39m \u001b[38;5;28;01mimport\u001b[39;00m\u001b[38;5;250m \u001b[39m\u001b[34;01mpandas\u001b[39;00m\u001b[38;5;250m \u001b[39m\u001b[38;5;28;01mas\u001b[39;00m\u001b[38;5;250m \u001b[39m\u001b[34;01mpd\u001b[39;00m\n\u001b[32m      5\u001b[39m timeout = \u001b[32m120\u001b[39m\n\u001b[32m----> \u001b[39m\u001b[32m6\u001b[39m C=scope_client(time_out=timeout)\n",
      "\u001b[36mFile \u001b[39m\u001b[32m~/Documents/ztf_summer_school_2025/day4/SCoPe_tools-main/SCoPe_db.py:13\u001b[39m, in \u001b[36mscope_client.__init__\u001b[39m\u001b[34m(self, config, time_out, max_n_threads)\u001b[39m\n\u001b[32m     11\u001b[39m     \u001b[38;5;28mself\u001b[39m.config_settings=yaml.load(f, Loader=yaml.FullLoader)\n\u001b[32m     12\u001b[39m \u001b[38;5;28mself\u001b[39m.max_n_threads=max_n_threads\n\u001b[32m---> \u001b[39m\u001b[32m13\u001b[39m \u001b[38;5;28mself\u001b[39m._setup_kowalski_(\u001b[38;5;28mself\u001b[39m.config_settings[\u001b[33m'\u001b[39m\u001b[33mhosts\u001b[39m\u001b[33m'\u001b[39m],time_out)\n\u001b[32m     15\u001b[39m \u001b[38;5;28mself\u001b[39m.features_keys=\u001b[38;5;28mself\u001b[39m.config_settings[\u001b[33m'\u001b[39m\u001b[33mfeatures_keys\u001b[39m\u001b[33m'\u001b[39m]\n\u001b[32m     16\u001b[39m \u001b[38;5;28mself\u001b[39m.classification_keys=\u001b[38;5;28mself\u001b[39m.config_settings[\u001b[33m'\u001b[39m\u001b[33mclassification_keys\u001b[39m\u001b[33m'\u001b[39m]\n",
      "\u001b[36mFile \u001b[39m\u001b[32m~/Documents/ztf_summer_school_2025/day4/SCoPe_tools-main/SCoPe_db.py:29\u001b[39m, in \u001b[36mscope_client._setup_kowalski_\u001b[39m\u001b[34m(self, hosts, time_out)\u001b[39m\n\u001b[32m     18\u001b[39m \u001b[38;5;28;01mdef\u001b[39;00m\u001b[38;5;250m \u001b[39m\u001b[34m_setup_kowalski_\u001b[39m(\u001b[38;5;28mself\u001b[39m,hosts: \u001b[38;5;28mdict\u001b[39m, time_out: \u001b[38;5;28mint\u001b[39m):\n\u001b[32m     19\u001b[39m     instances = {\n\u001b[32m     20\u001b[39m         host: {\n\u001b[32m     21\u001b[39m             \u001b[33m'\u001b[39m\u001b[33mprotocol\u001b[39m\u001b[33m'\u001b[39m: \u001b[33m'\u001b[39m\u001b[33mhttps\u001b[39m\u001b[33m'\u001b[39m,\n\u001b[32m   (...)\u001b[39m\u001b[32m     27\u001b[39m         \u001b[38;5;28;01mfor\u001b[39;00m host \u001b[38;5;129;01min\u001b[39;00m hosts.keys()\n\u001b[32m     28\u001b[39m     }\n\u001b[32m---> \u001b[39m\u001b[32m29\u001b[39m     \u001b[38;5;28mself\u001b[39m.kowalski_instances = Kowalski(timeout=time_out, instances=instances)\n",
      "\u001b[36mFile \u001b[39m\u001b[32m~/anaconda3/envs/ztfss25/lib/python3.12/site-packages/penquins/penquins.py:110\u001b[39m, in \u001b[36mKowalski.__init__\u001b[39m\u001b[34m(self, username, password, token, protocol, host, port, verbose, instances, **kwargs)\u001b[39m\n\u001b[32m    105\u001b[39m     \u001b[38;5;28;01mraise\u001b[39;00m \u001b[38;5;167;01mValueError\u001b[39;00m(\n\u001b[32m    106\u001b[39m         \u001b[33mf\u001b[39m\u001b[33m\"\u001b[39m\u001b[33mDuplicate instance names: \u001b[39m\u001b[38;5;132;01m{\u001b[39;00m\u001b[33m'\u001b[39m\u001b[33m, \u001b[39m\u001b[33m'\u001b[39m.join([name\u001b[38;5;250m \u001b[39m\u001b[38;5;28;01mfor\u001b[39;00m\u001b[38;5;250m \u001b[39mname\u001b[38;5;250m \u001b[39m\u001b[38;5;129;01min\u001b[39;00m\u001b[38;5;250m \u001b[39minstances.keys()\u001b[38;5;250m \u001b[39m\u001b[38;5;28;01mif\u001b[39;00m\u001b[38;5;250m \u001b[39minstances.keys().count(name)\u001b[38;5;250m \u001b[39m>\u001b[38;5;250m \u001b[39m\u001b[32m1\u001b[39m])\u001b[38;5;132;01m}\u001b[39;00m\u001b[33m\"\u001b[39m\n\u001b[32m    107\u001b[39m     )\n\u001b[32m    109\u001b[39m \u001b[38;5;28;01mfor\u001b[39;00m name, cfg \u001b[38;5;129;01min\u001b[39;00m instances.items():\n\u001b[32m--> \u001b[39m\u001b[32m110\u001b[39m     \u001b[38;5;28mself\u001b[39m.add(name, cfg, **kwargs)\n",
      "\u001b[36mFile \u001b[39m\u001b[32m~/anaconda3/envs/ztfss25/lib/python3.12/site-packages/penquins/penquins.py:221\u001b[39m, in \u001b[36mKowalski.add\u001b[39m\u001b[34m(self, name, cfg, **kwargs)\u001b[39m\n\u001b[32m    219\u001b[39m \u001b[38;5;28;01mif\u001b[39;00m \u001b[38;5;28mlen\u001b[39m(\u001b[38;5;28mself\u001b[39m.instances) == \u001b[32m1\u001b[39m:\n\u001b[32m    220\u001b[39m     \u001b[38;5;28mself\u001b[39m.multiple_instances = \u001b[38;5;28;01mFalse\u001b[39;00m\n\u001b[32m--> \u001b[39m\u001b[32m221\u001b[39m \u001b[38;5;28;01mraise\u001b[39;00m \u001b[38;5;167;01mValueError\u001b[39;00m(\u001b[33mf\u001b[39m\u001b[33m\"\u001b[39m\u001b[33mFailed to add instance \u001b[39m\u001b[38;5;132;01m{\u001b[39;00mname\u001b[38;5;132;01m}\u001b[39;00m\u001b[33m: \u001b[39m\u001b[38;5;132;01m{\u001b[39;00me\u001b[38;5;132;01m}\u001b[39;00m\u001b[33m\"\u001b[39m)\n",
      "\u001b[31mValueError\u001b[39m: Failed to add instance gloria: HTTPSConnectionPool(host='gloria.caltech.edu', port=443): Max retries exceeded with url: /api/auth (Caused by SSLError(SSLCertVerificationError(1, '[SSL: CERTIFICATE_VERIFY_FAILED] certificate verify failed: unable to get local issuer certificate (_ssl.c:1000)')))"
     ]
    }
   ],
   "source": [
    "from SCoPe_db import scope_client\n",
    "import yaml\n",
    "import numpy as np\n",
    "import pandas as pd\n",
    "timeout = 120\n",
    "C=scope_client(time_out=timeout)"
   ]
  },
  {
   "cell_type": "markdown",
   "metadata": {},
   "source": [
    "`ZTF_source_features_DR16` and `ZTF_source_classifications_DR16` are the two tables that make up the SCoPe catalog. `ZTF_source_classifications_DR16` contains all of the classifications for all of the lightcurves (the same as the Zenodo repo). `ZTF_source_features_DR16` has the feautes computed that were used to compute the classifications. Not all columns are as useful as each other. Built into `scope_client` is a list of preselected columns to be returned in all queries."
   ]
  },
  {
   "cell_type": "code",
   "execution_count": null,
   "metadata": {},
   "outputs": [],
   "source": [
    "#columns used for ZTF_source_classifications_DR16\n",
    "print(C.classification_keys)"
   ]
  },
  {
   "cell_type": "code",
   "execution_count": null,
   "metadata": {},
   "outputs": [],
   "source": [
    "#columns used for ZTF_source_features_DR16\n",
    "print(C.features_keys)"
   ]
  },
  {
   "cell_type": "markdown",
   "metadata": {},
   "source": [
    "One can manualy change the columns returned like in the cell below, however the prefered method is the change these varibles in `config.yaml` before initalizing a `scope_client`"
   ]
  },
  {
   "cell_type": "code",
   "execution_count": null,
   "metadata": {},
   "outputs": [],
   "source": [
    "#To change these columns just\n",
    "C.features_keys=C.features_keys[1::] #removing the first element\n",
    "#then run\n",
    "C._setup_projections_()\n",
    "# Now undo this\n",
    "C.features_keys=['_id']+C.features_keys\n",
    "C._setup_projections_()"
   ]
  },
  {
   "cell_type": "markdown",
   "metadata": {},
   "source": [
    "## <a id=\"cone\"></a>2. `cone_search` and `cone_searches`\n",
    "use these functions to preform a cone search around one (`cone_search`) or many (`cone_searchs`) coordinates."
   ]
  },
  {
   "cell_type": "code",
   "execution_count": null,
   "metadata": {},
   "outputs": [],
   "source": [
    "out_data=C.cone_search(10,10,radius=1,unit='arcmin')\n",
    "out_data"
   ]
  },
  {
   "cell_type": "code",
   "execution_count": null,
   "metadata": {},
   "outputs": [],
   "source": [
    "#multiple ra dec positions\n",
    "pos=[(10,10),(0,0),(5,5)]\n",
    "out_data=C.cone_searches(pos,radius=1,unit='arcmin')\n",
    "out_data"
   ]
  },
  {
   "cell_type": "markdown",
   "metadata": {},
   "source": [
    "## <a id=\"id\"></a>3. `ids_search`\n",
    "You may know the ids of the objects you are looking for. You can retrive the objects like"
   ]
  },
  {
   "cell_type": "code",
   "execution_count": null,
   "metadata": {},
   "outputs": [],
   "source": [
    "ids=[10447433026230,10447432005323,10447433005770]\n",
    "out_data=C.ids_search(ids,id_type='_id')\n"
   ]
  },
  {
   "cell_type": "markdown",
   "metadata": {},
   "source": [
    "You can also search on `AllWISE___id`, `Gaia_EDR3___id` or `PS1_DR1___id` by changing the `id_type` kwarg to the desired id."
   ]
  },
  {
   "cell_type": "markdown",
   "metadata": {},
   "source": [
    "## <a id=\"4\"></a> 4.  `search_by_classification` and `search_by_features`\n",
    "There are indices over field so these implement searches in parallel over fields while filtering on columns from the classifications table or features table. These are equivalant to a 3 stage agregation pipeline where\n",
    "1. Select only rows in a specifed `field`\n",
    "2. Preform a `match` on columns of `ZTF_source_classifications_DR16` xor `ZTF_source_features_DR16`\n",
    "3. `project` desired columns"
   ]
  },
  {
   "cell_type": "code",
   "execution_count": null,
   "metadata": {},
   "outputs": [],
   "source": [
    "fields=[447,500,396]\n",
    "# period is less than 10 days AND dnn periodic score is greater than .7 AND XGB periodic score is greater than .7\n",
    "short_period_and_periodic={'$and':[\n",
    "                                    {'period':{'$lt':10}},\n",
    "                                    {'pnp_dnn':{'$gt':.7}},\n",
    "                                    {'pnp_xgb':{'$gt':.7}}\n",
    "                                ]\n",
    "                            }\n",
    "\n",
    "out_data=C.search_by_classification(fields,filter_stage=short_period_and_periodic)\n",
    "out_data"
   ]
  },
  {
   "cell_type": "code",
   "execution_count": null,
   "metadata": {},
   "outputs": [],
   "source": [
    "fields=[447,500,396]\n",
    "# period is less than 10 days AND significance greater than 10 AND an amplitude greater than 1\n",
    "short_period_high_amplitude={'$and':[\n",
    "                                    {'amplitude':{'$gt':1}},\n",
    "                                    {'period_ELS_ECE_EAOV':{'$lt':10}},\n",
    "                                    {'significance_ELS_ECE_EAOV':{'$gt':10}}\n",
    "                                ]\n",
    "                            }\n",
    "\n",
    "out_data=C.search_by_feature(fields,filter_stage=short_period_high_amplitude)\n",
    "out_data"
   ]
  },
  {
   "cell_type": "markdown",
   "metadata": {},
   "source": [
    "## 5. <a id=\"plot\"></a> View one sources classifications\n",
    "`all_tax.yaml` has the full names for the columns in the classifcation database"
   ]
  },
  {
   "cell_type": "code",
   "execution_count": null,
   "metadata": {},
   "outputs": [],
   "source": [
    "#get one row\n",
    "out_data=C.ids_search([10500512001977],id_type='_id')\n",
    "out_data"
   ]
  },
  {
   "cell_type": "markdown",
   "metadata": {},
   "source": [
    "You can view the classifcation using the scheme below. I have left this level of settings exposed to let you customize the plots how you see fit. If you want more setting exposed or features for the plot open an issue on the github and I (Daniel Warshofsky) will look into it."
   ]
  },
  {
   "cell_type": "markdown",
   "metadata": {},
   "source": [
    "The top part of the circle shows the DNN scores and the lower part show the XGB scores "
   ]
  },
  {
   "cell_type": "code",
   "execution_count": null,
   "metadata": {},
   "outputs": [],
   "source": [
    "from class_plot import *\n",
    "import yaml\n",
    "with open('./all_tax.yaml') as config_yaml:\n",
    "    full_tree = yaml.load(config_yaml, Loader=yaml.FullLoader)\n",
    "copy_tree=copy.deepcopy(full_tree)\n",
    "# get just the Phenomenological tree\n",
    "ph_tree=copy_tree['children'][0]\n",
    "# get just the Ontological tree\n",
    "on_tree=copy_tree['children'][1]\n",
    "fig,axs=plt.subplots(2,figsize=(8,16))\n",
    "\n",
    "s_ph={'skip_text':False,'cm':\"Greens\"}\n",
    "s_on={'skip_text':False,'cm':\"Greens\"}\n",
    "axs[0].set_title('Phenomenological')\n",
    "plot_classifications(axs[0],out_data,ph_tree,sep=.3,settings=s_ph)\n",
    "axs[1].set_title('Ontological')\n",
    "plot_classifications(axs[1],out_data,on_tree,sep=.3,settings=s_on)\n",
    "axs[0].set_xticks([])\n",
    "axs[0].set_yticks([])\n",
    "axs[1].set_xticks([])\n",
    "axs[1].set_yticks([])\n",
    "plt.tight_layout()"
   ]
  },
  {
   "cell_type": "markdown",
   "metadata": {},
   "source": [
    "## 6. <a id=\"lc\"></a> Retriving Lightcurves\n",
    "You can get light curves by the `_id` or by a single coordinate. SCoPe sources are by lightcurve not object! Each filter is seperate! All lightcurves are returned in the same `DataFrame` with the column `_id` to denote which lightcurve is which. You need access to `melman` for this functionality"
   ]
  },
  {
   "cell_type": "code",
   "execution_count": null,
   "metadata": {},
   "outputs": [],
   "source": [
    "ids=[10447433026230,10447432005323,10447433005770]\n",
    "out_data=C.get_light_curves_by_id(ids)\n",
    "out_data\n"
   ]
  },
  {
   "cell_type": "code",
   "execution_count": null,
   "metadata": {},
   "outputs": [],
   "source": [
    "out_data=C.get_light_curves_by_coord(5.008773,4.999681)\n",
    "out_data"
   ]
  },
  {
   "cell_type": "code",
   "execution_count": null,
   "metadata": {},
   "outputs": [],
   "source": [
    "import matplotlib.pyplot as plt\n",
    "fig,ax=plt.subplots()\n",
    "for id in np.unique(out_data['_id']):\n",
    "    mask=out_data['_id']==id\n",
    "    ax.plot(out_data[mask]['hjd']-min(out_data['hjd']),out_data[mask]['mag'],label=str(id))\n",
    "ax.legend()\n",
    "ax.invert_yaxis()\n",
    "ax.set_xlabel('Days since first observation')\n",
    "ax.set_ylabel('mag')"
   ]
  },
  {
   "cell_type": "markdown",
   "metadata": {},
   "source": [
    "## 7. <a id=\"ex\"></a> Examples"
   ]
  },
  {
   "cell_type": "markdown",
   "metadata": {},
   "source": [
    "### 7.1. <a id=\"cmd\"></a> CMD"
   ]
  },
  {
   "cell_type": "code",
   "execution_count": null,
   "metadata": {},
   "outputs": [],
   "source": [
    "# Retrive some data\n",
    "fields=[500]\n",
    "periodic={'$and':[\n",
    "                    {'pnp_dnn':{'$gt':.7}},\n",
    "                    {'pnp_xgb':{'$gt':.7}}\n",
    "                ]\n",
    "            }\n",
    "non_periodic={'$and':[\n",
    "                    {'pnp_dnn':{'$lt':.4}},\n",
    "                    {'pnp_xgb':{'$lt':.4}}\n",
    "                ]\n",
    "            }\n",
    "\n",
    "periodic_data=C.search_by_classification(fields,filter_stage=periodic)\n",
    "non_periodic_data=C.search_by_classification(fields,filter_stage=non_periodic)"
   ]
  },
  {
   "cell_type": "code",
   "execution_count": null,
   "metadata": {},
   "outputs": [],
   "source": [
    "periodic_data=periodic_data[periodic_data['Gaia_EDR3___id']!=np.nan]\n",
    "non_periodic_data=non_periodic_data[non_periodic_data['Gaia_EDR3___id']!=np.nan]\n",
    "\n",
    "\n",
    "periodic_data['Abs_g_mag']=periodic_data[\"Gaia_EDR3__phot_g_mean_mag\"] + 5.0 * np.log10(periodic_data[\"Gaia_EDR3__parallax\"] / 1000)\n",
    "non_periodic_data['Abs_g_mag']=non_periodic_data[\"Gaia_EDR3__phot_g_mean_mag\"] + 5.0 * np.log10(non_periodic_data[\"Gaia_EDR3__parallax\"] / 1000)\n",
    "\n",
    "#keep only significant parallax\n",
    "final_periodic=periodic_data[periodic_data[\"Gaia_EDR3__parallax\"]/periodic_data['Gaia_EDR3__parallax_error']>3]\n",
    "final_non_periodic=non_periodic_data[non_periodic_data[\"Gaia_EDR3__parallax\"]/non_periodic_data['Gaia_EDR3__parallax_error']>3]\n"
   ]
  },
  {
   "cell_type": "code",
   "execution_count": null,
   "metadata": {},
   "outputs": [],
   "source": [
    "fig,ax= plt.subplots(figsize=(8,8))\n",
    "ax.scatter(final_non_periodic['Gaia_EDR3__phot_bp_mean_mag']-final_non_periodic['Gaia_EDR3__phot_rp_mean_mag'],final_non_periodic['Abs_g_mag'],label='Non-Periodic',s=5,alpha=.1)\n",
    "ax.scatter(final_periodic['Gaia_EDR3__phot_bp_mean_mag']-final_periodic['Gaia_EDR3__phot_rp_mean_mag'],final_periodic['Abs_g_mag'],label='Periodic',s=5,alpha=.2)\n",
    "ax.set_xlabel('BP-RP (mag)')\n",
    "ax.set_ylabel('Abs G (mag)')\n",
    "l=ax.legend()\n",
    "for lh in l.legend_handles: \n",
    "    lh.set_alpha(1)\n",
    "ax.invert_yaxis()\n"
   ]
  },
  {
   "cell_type": "markdown",
   "metadata": {},
   "source": [
    "### 7.2. <a id=\"singlesource\"></a> Inspecting a single object"
   ]
  },
  {
   "cell_type": "code",
   "execution_count": null,
   "metadata": {},
   "outputs": [],
   "source": [
    "#First lets find some sources that are interesting\n",
    "fields=[740]\n",
    "#look for some very short period sources\n",
    "periodic={'$and':[\n",
    "                    {'period':{'$lt':.2}},\n",
    "                    {'pnp_dnn':{'$gt':.7}},\n",
    "                    {'pnp_xgb':{'$gt':.7}}\n",
    "                ]\n",
    "            }\n",
    "periodic_data=C.search_by_classification(fields,filter_stage=periodic)\n"
   ]
  },
  {
   "cell_type": "code",
   "execution_count": null,
   "metadata": {},
   "outputs": [],
   "source": [
    "periodic_data"
   ]
  },
  {
   "cell_type": "code",
   "execution_count": null,
   "metadata": {},
   "outputs": [],
   "source": [
    "# now lets filter for only the most significant periods\n",
    "q='significance_ELS > 100 & significance_EAOV >100 & significance_ECE >30 & significance_ELS_ECE_EAOV > 100' #this is arbitrary, just to find the source that I want\n",
    "periodic_data_high_sig=periodic_data.query(q).reset_index(drop=True)\n",
    "periodic_data_high_sig"
   ]
  },
  {
   "cell_type": "code",
   "execution_count": null,
   "metadata": {},
   "outputs": [],
   "source": [
    "#Look at the rows one by one untill we find something cool\n",
    "\n",
    "row=periodic_data_high_sig[0:1]\n",
    "print(f\"This source has id: {row['_id'].values}\")\n",
    "\n",
    "with open('./all_tax.yaml') as config_yaml:\n",
    "    full_tree = yaml.load(config_yaml, Loader=yaml.FullLoader)\n",
    "copy_tree=copy.deepcopy(full_tree)\n",
    "# get just the Phenomenological tree\n",
    "ph_tree=copy_tree['children'][0]\n",
    "# get just the Ontological tree\n",
    "on_tree=copy_tree['children'][1]\n",
    "fig,axs=plt.subplots(2,figsize=(8,16))\n",
    "\n",
    "s_ph={'skip_text':False,'cm':\"Greens\"}\n",
    "s_on={'skip_text':False,'cm':\"Greens\"}\n",
    "axs[0].set_title('Phenomenological')\n",
    "plot_classifications(axs[0],row,ph_tree,sep=.3,settings=s_ph)\n",
    "axs[1].set_title('Ontological')\n",
    "plot_classifications(axs[1],row,on_tree,sep=.3,settings=s_on)\n",
    "axs[0].set_xticks([])\n",
    "axs[0].set_yticks([])\n",
    "axs[1].set_xticks([])\n",
    "axs[1].set_yticks([])\n",
    "plt.tight_layout()"
   ]
  },
  {
   "cell_type": "markdown",
   "metadata": {},
   "source": [
    "While both DNN and XGB agree that the source is periodic, DNN seems to think this source is a  W Urse Maj. (contact binary) and XGB thinks it is a Delta Scuti varible. This merits looking at the lightcurve!"
   ]
  },
  {
   "cell_type": "code",
   "execution_count": null,
   "metadata": {},
   "outputs": [],
   "source": [
    "light_curve=C.get_light_curves_by_id([int(row['_id'][0])]) #This is a little awkward becuse numpy ints are not json serializable, if you encounter issues like this post an issue\n",
    "light_curve['hjd']-=min(light_curve['hjd']) #set relitive to \n",
    "\n",
    "period=row['period'].loc[0]\n",
    "fig,axs=plt.subplots(2,figsize=(12,8))\n",
    "axs[0].scatter(light_curve['hjd'],light_curve['mag'],s=2)\n",
    "axs[0].invert_yaxis()\n",
    "axs[0].set_ylim(15.65,15)\n",
    "axs[0].set_xlabel('Days Since First Obs')\n",
    "axs[0].set_ylabel('Mag')\n",
    "axs[0].set_title('Full Lightcurve')\n",
    "\n",
    "\n",
    "axs[1].scatter((light_curve['hjd']%(2*period))/period,light_curve['mag'],s=2)\n",
    "axs[1].invert_yaxis()\n",
    "axs[1].set_ylim(15.65,15)\n",
    "axs[1].set_xlabel('Phase')\n",
    "axs[1].set_ylabel('Mag')\n",
    "axs[1].set_title(f'Phase folded Lightcurve as period {period:.4f}')\n",
    "plt.tight_layout()"
   ]
  },
  {
   "cell_type": "markdown",
   "metadata": {},
   "source": [
    "Seeing the light curve reviles that it is a Delta Scuti (This is a known sources see [here](https://simbad.u-strasbg.fr/simbad/sim-coo?protocol=html&NbIdent=us=30&Radius.unit=arcsec&CooFrame=FK5&CooEpoch=2000&CooEqui=2000&Coord=43.3365825d+48.2069786d)<-- link to internet)"
   ]
  }
 ],
 "metadata": {
  "kernelspec": {
   "display_name": "ztfss25",
   "language": "python",
   "name": "ztfss25"
  },
  "language_info": {
   "codemirror_mode": {
    "name": "ipython",
    "version": 3
   },
   "file_extension": ".py",
   "mimetype": "text/x-python",
   "name": "python",
   "nbconvert_exporter": "python",
   "pygments_lexer": "ipython3",
   "version": "3.12.2"
  }
 },
 "nbformat": 4,
 "nbformat_minor": 4
}
